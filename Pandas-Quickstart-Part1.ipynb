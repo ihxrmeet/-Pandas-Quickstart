{
 "cells": [
  {
   "cell_type": "markdown",
   "metadata": {},
   "source": [
    "**Introduction to Pandas**\n",
    "- What is Pandas?\n",
    "Pandas is a tool in Python that helps you work with data. You can use it to:\n",
    "\n",
    "1. Read and write data from files.\n",
    "2. Clean and organize data.\n",
    "3. Analyze and visualize data."
   ]
  },
  {
   "cell_type": "markdown",
   "metadata": {},
   "source": [
    "----"
   ]
  },
  {
   "cell_type": "markdown",
   "metadata": {},
   "source": [
    "   - Installing Pandas\n",
    "   To install Pandas in Python, follow these simple steps:\n",
    "\n",
    "1. **Open your command prompt or terminal.**\n",
    "2. **Type the following command:**\n",
    "   ```sh\n",
    "   pip install pandas\n",
    "   ```\n",
    "3. **Press Enter.**\n",
    "\n",
    "- To install Pandas in a Jupyter Notebook, follow these steps:\n",
    "\n",
    "1. **Open your Jupyter Notebook.**\n",
    "2. **Create a new cell and type the following command:**\n",
    "   ```python\n",
    "   !pip install pandas\n",
    "   ```\n",
    "3. **Run the cell by pressing Shift + Enter.**\n",
    "\n",
    "This will download and install Pandas on your computer."
   ]
  },
  {
   "cell_type": "markdown",
   "metadata": {},
   "source": [
    "----"
   ]
  },
  {
   "cell_type": "markdown",
   "metadata": {},
   "source": [
    "   - Importing Pandas\n",
    "   To import Pandas in Python, including in a Jupyter Notebook, follow these steps:\n",
    "\n",
    "1. **Open your Jupyter Notebook.**\n",
    "2. **Create a new cell and type the following command:**\n",
    "   ```python\n",
    "   import pandas as pd\n",
    "   ```\n",
    "3. **Run the cell by pressing Shift + Enter.**"
   ]
  },
  {
   "cell_type": "markdown",
   "metadata": {},
   "source": [
    "----"
   ]
  },
  {
   "cell_type": "markdown",
   "metadata": {},
   "source": [
    "### Let's Start Learning Pandas."
   ]
  },
  {
   "cell_type": "code",
   "execution_count": 6,
   "metadata": {},
   "outputs": [],
   "source": [
    "#import pandas\n",
    "import pandas as pd"
   ]
  },
  {
   "cell_type": "markdown",
   "metadata": {},
   "source": [
    "### Data Structures in Pandas\n",
    "In Pandas, there are two main types of data structures:\n",
    "\n",
    "- **Series**: Think of it as a single column of data, like a list with labels for each item.\n",
    "  \n",
    "- **DataFrame**: This is like a table with rows and columns, where each column can hold different types of data.\n",
    "\n",
    "These structures help Pandas organize and work with data effectively, making tasks like data analysis and manipulation easier."
   ]
  },
  {
   "cell_type": "markdown",
   "metadata": {},
   "source": [
    "- **Creating DataFrames and Series**: \n",
    "  - You can create Series and DataFrames from lists, dictionaries, arrays, or even from reading data files like CSVs.\n",
    "  This allows you to easily manipulate and analyze structured data."
   ]
  },
  {
   "cell_type": "markdown",
   "metadata": {},
   "source": [
    "## Series  (↓)"
   ]
  },
  {
   "cell_type": "markdown",
   "metadata": {},
   "source": [
    "A **Series** in Pandas is like a list with labels for each item. Here's what you need to know:\n",
    "\n",
    "- **Definition**: It's a one-dimensional array that can hold different types of data.\n",
    "  \n",
    "- **Indexing**: Each item in a Series has a label, starting from 0 by default.\n",
    "\n",
    "- **Creation**: You can create a Series from lists, arrays, or dictionaries.\n",
    "\n",
    "- **Operations**: You can perform operations like adding, slicing, and sorting data in a Series.\n",
    "\n",
    "**Example:**"
   ]
  },
  {
   "cell_type": "code",
   "execution_count": 13,
   "metadata": {},
   "outputs": [
    {
     "name": "stdout",
     "output_type": "stream",
     "text": [
      "0    10\n",
      "1    20\n",
      "2    30\n",
      "3    40\n",
      "4    50\n",
      "dtype: int64\n"
     ]
    }
   ],
   "source": [
    "# Creating a Series from a list\n",
    "data = [10, 20, 30, 40, 50]\n",
    "s = pd.Series(data)\n",
    "print(s)\n"
   ]
  },
  {
   "cell_type": "markdown",
   "metadata": {},
   "source": [
    "In Pandas Series, **names** and **labels** refer to different aspects of how data is organized and accessed:\n",
    "\n",
    "### Names and Labels in Series:\n",
    "\n",
    "1. **Names (`name` attribute)**:\n",
    "   - The `name` attribute in a Series is used to give a name to the Series itself, not its individual elements.\n",
    "   - It helps to provide a descriptive name to the Series, especially when it's part of a larger DataFrame."
   ]
  },
  {
   "cell_type": "code",
   "execution_count": 16,
   "metadata": {},
   "outputs": [
    {
     "name": "stdout",
     "output_type": "stream",
     "text": [
      "0    1\n",
      "1    2\n",
      "2    3\n",
      "3    4\n",
      "4    5\n",
      "Name: MySeries, dtype: int64\n",
      "MySeries\n"
     ]
    }
   ],
   "source": [
    " # Creating a Series with a name\n",
    "s = pd.Series([1, 2, 3, 4, 5], name='MySeries')\n",
    "print(s)\n",
    "# Accessing the name attribute\n",
    "print(s.name)"
   ]
  },
  {
   "cell_type": "markdown",
   "metadata": {},
   "source": [
    "2. **Labels (Index labels)**:\n",
    "   - Labels in a Series refer to the index labels or keys assigned to each element in the Series.\n",
    "   - They allow you to access and manipulate specific data points using these labels.\n",
    "\n",
    "   Example:"
   ]
  },
  {
   "cell_type": "code",
   "execution_count": 17,
   "metadata": {},
   "outputs": [
    {
     "name": "stdout",
     "output_type": "stream",
     "text": [
      "A    10\n",
      "B    20\n",
      "C    30\n",
      "D    40\n",
      "E    50\n",
      "dtype: int64\n"
     ]
    }
   ],
   "source": [
    " # Creating a Series with custom index labels\n",
    " #  data = [10, 20, 30, 40, 50]\n",
    "index = ['A', 'B', 'C', 'D', 'E']\n",
    "s = pd.Series(data, index=index)\n",
    "print(s)"
   ]
  },
  {
   "cell_type": "markdown",
   "metadata": {},
   "source": [
    "\n",
    "### Practical Uses:\n",
    "\n",
    "- **Names**: Provide clarity and context to the Series, especially useful in multi-column DataFrames.\n",
    "- **Labels**: Facilitate easy and efficient data access and manipulation using descriptive labels rather than numeric indices."
   ]
  },
  {
   "cell_type": "markdown",
   "metadata": {},
   "source": [
    "----"
   ]
  },
  {
   "cell_type": "markdown",
   "metadata": {},
   "source": [
    "## DataFrame  (↓)"
   ]
  },
  {
   "cell_type": "markdown",
   "metadata": {},
   "source": [
    "### DataFrame in Pandas Explained:\n",
    "\n",
    "- **Definition**: A DataFrame is a two-dimensional labeled data structure with columns of potentially different types. It can be thought of as a table in a relational database or an Excel spreadsheet, where each column represents a different variable, and each row represents a different observation or entry.\n",
    "\n",
    "- **Features**:\n",
    "  - **Columns**: Each column in a DataFrame is a Pandas Series.\n",
    "  - **Index**: DataFrame has both a row index and column labels, allowing for efficient data alignment and manipulation.\n",
    "  - **Flexibility**: Columns can contain different types of data (integer, float, string, etc.)."
   ]
  },
  {
   "cell_type": "markdown",
   "metadata": {},
   "source": [
    "### Creating DataFrames:\n",
    "1. **From Dictionaries:**"
   ]
  },
  {
   "cell_type": "code",
   "execution_count": 20,
   "metadata": {},
   "outputs": [
    {
     "name": "stdout",
     "output_type": "stream",
     "text": [
      "    Name  Age\n",
      "0   John   28\n",
      "1   Emma   24\n",
      "2  Peter   32\n"
     ]
    }
   ],
   "source": [
    "# Creating a DataFrame from a dictionary\n",
    "data = {'Name': ['John', 'Emma', 'Peter'], 'Age': [28, 24, 32]}\n",
    "df = pd.DataFrame(data)\n",
    "print(df)"
   ]
  },
  {
   "cell_type": "markdown",
   "metadata": {},
   "source": [
    "2. **From Lists of Lists:**"
   ]
  },
  {
   "cell_type": "code",
   "execution_count": 21,
   "metadata": {},
   "outputs": [
    {
     "name": "stdout",
     "output_type": "stream",
     "text": [
      "    Name  Age\n",
      "0   John   28\n",
      "1   Emma   24\n",
      "2  Peter   32\n"
     ]
    }
   ],
   "source": [
    "# Creating a DataFrame from a list of lists\n",
    "data = [['John', 28], ['Emma', 24], ['Peter', 32]]\n",
    "df = pd.DataFrame(data, columns=['Name', 'Age'])\n",
    "print(df)"
   ]
  },
  {
   "cell_type": "markdown",
   "metadata": {},
   "source": [
    "3. **From CSV Files:**\n",
    "\n",
    "- Reading a DataFrame from a CSV file\n",
    "- df = pd.read_csv('data.csv')"
   ]
  },
  {
   "cell_type": "markdown",
   "metadata": {},
   "source": [
    "\n",
    "### Operations on DataFrames:\n",
    "\n",
    "- **Accessing Elements**: Use `loc[]` or `iloc[]` for accessing elements by labels or integer location.\n",
    "  \n",
    "- **Slicing and Filtering**: Extract subsets of data based on conditions or positional indices.\n",
    "\n",
    "- **Adding and Removing Columns**: Easily add or drop columns to manipulate data structure as needed.\n",
    "\n",
    "### Practical Uses:\n",
    "\n",
    "- **Data Analysis**: Perform statistical analysis, data visualization, and data manipulation tasks.\n",
    "  \n",
    "- **Data Cleaning**: Handle missing values, rename columns, and convert data types.\n",
    "\n",
    "- **Data Integration**: Merge, join, or concatenate multiple DataFrames to integrate and analyze data from various sources."
   ]
  },
  {
   "cell_type": "markdown",
   "metadata": {},
   "source": [
    "----"
   ]
  },
  {
   "cell_type": "markdown",
   "metadata": {},
   "source": [
    "**Data Importing and Exporting**\n",
    "- Reading data from CSV, Excel, SQL, and other file types"
   ]
  },
  {
   "cell_type": "markdown",
   "metadata": {},
   "source": [
    "### Reading Data from Different File Types:\n",
    "\n",
    "#### 1. **CSV File**:\n",
    "```python\n",
    "import pandas as pd\n",
    "\n",
    "# Reading from a CSV file\n",
    "df_csv = pd.read_csv('data.csv')\n",
    "```\n",
    "---\n",
    "\n",
    "#### 2. **Excel File**:\n",
    "```python\n",
    "# Reading from an Excel file\n",
    "df_excel = pd.read_excel('data.xlsx', sheet_name='Sheet1')\n",
    "\n",
    "# Displaying the first few rows of the DataFrame\n",
    "print(df_excel.head())\n",
    "```\n",
    "---\n",
    "\n",
    "#### 3. **SQL Database**:\n",
    "```python\n",
    "from sqlalchemy import create_engine\n",
    "\n",
    "# Establishing a connection to the SQL database\n",
    "engine = create_engine('sqlite:///data.db')  # Replace 'sqlite:///data.db' with your database URL\n",
    "\n",
    "# Reading data from a SQL query into a DataFrame\n",
    "query = 'SELECT * FROM table_name;'\n",
    "df_sql = pd.read_sql(query, con=engine)\n",
    "```\n",
    "---\n",
    "\n",
    "#### 4. **Other Formats (JSON, HTML, etc.)**:\n",
    "```python\n",
    "# Reading from JSON file\n",
    "df_json = pd.read_json('data.json')\n",
    "\n",
    "# Reading from HTML (web scraping)\n",
    "df_html = pd.read_html('https://example.com/data.html')[0]  # Assuming the table is the first one on the page\n",
    "```\n",
    "\n",
    "### Key Points:\n",
    "\n",
    "- **CSV and Excel**: Use `pd.read_csv()` and `pd.read_excel()` respectively. You can specify additional parameters like `sheet_name` for Excel.\n",
    "- **SQL Database**: Connect using SQLAlchemy (`create_engine`) and then use `pd.read_sql()` to execute SQL queries and read data into a DataFrame.\n",
    "- **Other Formats**: Pandas supports various other formats such as JSON (`pd.read_json()`), HTML (`pd.read_html()` for web scraping), and more.\n",
    "\n",
    "### Notes:\n",
    "\n",
    "- Ensure you have the necessary libraries installed (`pandas`, `sqlalchemy` for SQL databases) to use these functions.\n",
    "- Adjust parameters such as file paths, database URLs, and query strings (`query`) as per your specific data source and requirements.\n",
    "\n",
    "This structured approach helps in understanding how to import data from different file types and sources into Pandas DataFrames effectively."
   ]
  },
  {
   "cell_type": "markdown",
   "metadata": {},
   "source": [
    "--------------------------"
   ]
  },
  {
   "cell_type": "markdown",
   "metadata": {},
   "source": [
    "# - Writing data to CSV, Excel, SQL, and other file types"
   ]
  },
  {
   "cell_type": "markdown",
   "metadata": {},
   "source": [
    "To write data from Pandas DataFrames to various file types such as CSV, Excel, SQL databases, and others, you can use different Pandas functions tailored for each file format. Here’s how you can write data to these common destinations:\n",
    "\n",
    "When we talk about \"writing\" data from Pandas DataFrames, we're essentially exporting or saving the data to various file formats. Here’s how you can export data from Pandas DataFrames to different file types\n",
    "\n",
    "keyword we using to export/writing file `df.to_csv` (csv is a file format u can add specific format according your data)\n",
    "\n",
    "### Writing Data to Different File Types:\n",
    "\n",
    "#### 1. **CSV File**:\n",
    "```python\n",
    "import pandas as pd\n",
    "\n",
    "# Creating a sample DataFrame\n",
    "data = {\n",
    "    'Name': ['John', 'Emma', 'Peter'],\n",
    "    'Age': [28, 24, 32],\n",
    "    'City': ['New York', 'San Francisco', 'Chicago']\n",
    "}\n",
    "df = pd.DataFrame(data)\n",
    "\n",
    "# Writing to a CSV file\n",
    "df.to_csv('data.csv', index=False)\n",
    "```\n",
    "--------------\n",
    "\n",
    "#### 2. **Excel File**:\n",
    "```python\n",
    "# Writing to an Excel file\n",
    "df.to_excel('data.xlsx', sheet_name='Sheet1', index=False)\n",
    "```\n",
    "--------------\n",
    "\n",
    "#### 3. **SQL Database**:\n",
    "```python\n",
    "from sqlalchemy import create_engine\n",
    "\n",
    "# Establishing a connection to the SQL database\n",
    "engine = create_engine('sqlite:///data.db')  # Replace 'sqlite:///data.db' with your database URL\n",
    "\n",
    "# Writing data to a SQL table\n",
    "df.to_sql('table_name', con=engine, index=False, if_exists='replace')\n",
    "```\n",
    "--------------\n",
    "\n",
    "#### 4. **Other Formats (JSON, HTML, etc.)**:\n",
    "```python\n",
    "# Writing to JSON file\n",
    "df.to_json('data.json', orient='records')\n",
    "\n",
    "# Writing to HTML (convert DataFrame to HTML table)\n",
    "df.to_html('data.html', index=False)\n",
    "```\n",
    "\n",
    "--------------\n",
    "\n",
    "### Key Points:\n",
    "\n",
    "- **CSV and Excel**: Use `df.to_csv()` and `df.to_excel()` respectively. Specify `index=False` to avoid writing row indices to the file.\n",
    "- **SQL Database**: Connect using SQLAlchemy (`create_engine`) and then use `df.to_sql()` to write DataFrame contents to a SQL table. Specify `if_exists='replace'` to overwrite the table if it already exists.\n",
    "- **Other Formats**: Pandas supports various other formats such as JSON (`df.to_json()`) and HTML (`df.to_html()`).\n",
    "\n",
    "### Notes:\n",
    "\n",
    "- Ensure you have the necessary libraries installed (`pandas`, `sqlalchemy` for SQL databases) to use these functions.\n",
    "- Adjust parameters such as file paths, database URLs, and table names (`table_name`) as per your specific data destination and requirements.\n",
    "\n",
    "By leveraging these Pandas functions, you can effectively export data from Pandas DataFrames to different file types and storage solutions for further use and sharing."
   ]
  },
  {
   "cell_type": "markdown",
   "metadata": {},
   "source": [
    "To view and understand data within a Pandas DataFrame, you can use several methods like `head()`, `tail()`, `info()`, and `describe()`:\n",
    "\n",
    "You can specify the number of rows you want to view from a DataFrame using methods like `head()` or `tail()`. For example:\n",
    "\n",
    "- **head(n)**: Displays the first `n` rows of the DataFrame.\n",
    "- **tail(n)**: Displays the last `n` rows of the DataFrame.\n",
    "\n",
    "### Explanation:\n",
    "- **head(3)**: Displays the first 3 rows of the DataFrame `df`.\n",
    "- **tail(2)**: Displays the last 2 rows of the DataFrame `df`.\n",
    "\n",
    "These methods allow you to specify the number of rows you want to inspect from the beginning or end of your DataFrame, providing flexibility in data exploration.\n",
    "\n",
    "### Viewing Data in Pandas:\n",
    "\n",
    "#### 1. **head()**:\n",
    "- **Usage**: Displays the first 5 rows of the DataFrame.\n",
    "- **Example**: `df.head()`\n",
    "- **Description**: Useful for quickly inspecting the structure and content at the beginning of the DataFrame.\n",
    "\n",
    "#### 2. **tail()**:\n",
    "- **Usage**: Shows the last 5 rows of the DataFrame.\n",
    "- **Example**: `df.tail()`\n",
    "- **Description**: Helps in checking the structure and content at the end of the DataFrame.\n",
    "\n",
    "#### 3. **info()**:\n",
    "- **Usage**: Provides a concise summary of the DataFrame including column names, data types, and memory usage.\n",
    "- **Example**: `df.info()`\n",
    "- **Description**: Useful for understanding the overall structure and data types present in the DataFrame.\n",
    "\n",
    "#### 4. **describe()**:\n",
    "- **Usage**: Generates descriptive statistics that summarize the central tendency, dispersion, and shape of numerical columns.\n",
    "- **Example**: `df.describe()`\n",
    "- **Description**: Offers insights into the numerical aspects of the DataFrame, such as mean, standard deviation, and quartile information.\n",
    "\n",
    "### Summary:\n",
    "\n",
    "- **head()** and **tail()**: Quick methods to preview the beginning and end of your DataFrame.\n",
    "- **info()**: Provides a concise summary of DataFrame details.\n",
    "- **describe()**: Generates statistical insights into numerical data in the DataFrame.\n",
    "\n",
    "These methods are essential for initial data exploration, providing a comprehensive view of the DataFrame's structure and content."
   ]
  },
  {
   "cell_type": "markdown",
   "metadata": {},
   "source": [
    "----------------"
   ]
  },
  {
   "cell_type": "markdown",
   "metadata": {},
   "source": [
    "### DataFrame Attributes\n",
    "\n",
    "In Pandas, you can access several attributes of a DataFrame to understand its structure and characteristics:\n",
    "\n",
    "- **shape**: Gives the dimensions (rows, columns) of the DataFrame.\n",
    "- **columns**: Returns the column labels of the DataFrame.\n",
    "- **index**: Provides information about the index (row labels) of the DataFrame.\n",
    "- **dtypes**: Displays the data types of each column in the DataFrame.\n",
    "\n",
    "These attributes help you quickly retrieve essential information about the DataFrame's layout, column names, index details, and data types.\n",
    "\n",
    "### Summary:\n",
    "\n",
    "- **shape**: Returns a tuple representing the dimensions (rows, columns) of the DataFrame.\n",
    "- **columns**: Provides the names of columns in the DataFrame.\n",
    "- **index**: Shows the row labels or index of the DataFrame.\n",
    "- **dtypes**: Displays the data types of columns in the DataFrame.\n",
    "\n",
    "These attributes are fundamental for understanding and manipulating data in Pandas, facilitating efficient data exploration and analysis."
   ]
  },
  {
   "cell_type": "code",
   "execution_count": 35,
   "metadata": {},
   "outputs": [
    {
     "name": "stdout",
     "output_type": "stream",
     "text": [
      "\n",
      "DataFrame:\n",
      "    Name  Age           City\n",
      "0   John   28       New York\n",
      "1   Emma   24  San Francisco\n",
      "2  Peter   32        Chicago\n",
      "Shape of the DataFrame:\n",
      "(3, 3)\n",
      "\n",
      "Columns of the DataFrame:\n",
      "Index(['Name', 'Age', 'City'], dtype='object')\n",
      "\n",
      "Index of the DataFrame:\n",
      "RangeIndex(start=0, stop=3, step=1)\n",
      "\n",
      "Data types of columns:\n",
      "Name    object\n",
      "Age      int64\n",
      "City    object\n",
      "dtype: object\n"
     ]
    }
   ],
   "source": [
    "# Creating a sample DataFrame\n",
    "data = {\n",
    "    'Name': ['John', 'Emma', 'Peter'],\n",
    "    'Age': [28, 24, 32],\n",
    "    'City': ['New York', 'San Francisco', 'Chicago']\n",
    "}\n",
    "df = pd.DataFrame(data)\n",
    "# Print the DataFrame itself\n",
    "print(\"\\nDataFrame:\")\n",
    "print(df)\n",
    "\n",
    "# Printing DataFrame attributes\n",
    "print(\"Shape of the DataFrame:\")\n",
    "print(df.shape)\n",
    "print(\"\\nColumns of the DataFrame:\")\n",
    "print(df.columns)\n",
    "print(\"\\nIndex of the DataFrame:\")\n",
    "print(df.index)\n",
    "print(\"\\nData types of columns:\")\n",
    "print(df.dtypes)\n",
    "\n",
    "#RUN THIS CELL TO SEE EXAMPLE"
   ]
  },
  {
   "cell_type": "markdown",
   "metadata": {},
   "source": [
    "----"
   ]
  },
  {
   "cell_type": "markdown",
   "metadata": {},
   "source": [
    "# *Understanding Summary Statistics in Pandas*\n",
    "\n",
    "### Summary Statistics with `describe()`\n",
    "\n",
    "In Pandas, you can use the `describe()` method to get a quick overview of numerical data in your DataFrame. Here's what it provides:\n",
    "\n",
    "- **Count**: Number of non-null values in each numerical column.\n",
    "- **Mean**: Average (mean) value of each numerical column.\n",
    "- **Std**: Standard deviation, which measures the amount of variation or dispersion in each column.\n",
    "- **Min**: The smallest value in each column.\n",
    "- **25%, 50%, 75%**: Percentiles that indicate the distribution of data. For example, the 50th percentile (median) is the middle value of the dataset.\n",
    "- **Max**: The largest value in each column."
   ]
  },
  {
   "cell_type": "code",
   "execution_count": 37,
   "metadata": {},
   "outputs": [
    {
     "name": "stdout",
     "output_type": "stream",
     "text": [
      "Summary Statistics:\n",
      "             Age  Height (inches)  Weight (kg)\n",
      "count   5.000000         5.000000     5.000000\n",
      "mean   29.800000        68.400000    75.000000\n",
      "std     4.147288         2.701851     7.905694\n",
      "min    24.000000        65.000000    65.000000\n",
      "25%    28.000000        67.000000    70.000000\n",
      "50%    30.000000        68.000000    75.000000\n",
      "75%    32.000000        70.000000    80.000000\n",
      "max    35.000000        72.000000    85.000000\n"
     ]
    }
   ],
   "source": [
    "### Example Usage:\n",
    "# Creating a sample DataFrame\n",
    "\n",
    "data = {\n",
    "    'Name': ['John', 'Emma', 'Peter', 'Alice', 'Bob'],\n",
    "    'Age': [28, 24, 32, 30, 35],\n",
    "    'Height (inches)': [68, 65, 70, 67, 72],\n",
    "    'Weight (kg)': [70, 65, 80, 75, 85]\n",
    "}\n",
    "df = pd.DataFrame(data)\n",
    "\n",
    "# Generating summary statistics\n",
    "summary = df.describe()\n",
    "\n",
    "# Printing the summary statistics\n",
    "print(\"Summary Statistics:\")\n",
    "print(summary)"
   ]
  },
  {
   "cell_type": "markdown",
   "metadata": {},
   "source": [
    "### Explanation:\n",
    "\n",
    "- **describe()**: Provides essential statistics for numerical columns in the DataFrame.\n",
    "- **Summary**: The output of `describe()` includes count, mean, standard deviation, minimum value, percentiles (25%, 50%, 75%), and maximum value for each numerical column.\n",
    "\n",
    "This method is useful for quickly understanding the distribution and central tendencies of your numerical data, aiding in data exploration and initial insights into your dataset."
   ]
  },
  {
   "cell_type": "markdown",
   "metadata": {},
   "source": [
    "----"
   ]
  },
  {
   "cell_type": "markdown",
   "metadata": {},
   "source": [
    "# **Data Selection and Filtering**\n",
    "\n",
    "### Selecting Columns and Rows in Pandas\n",
    "\n",
    "In Pandas, you can select specific columns and rows using different methods:\n",
    "\n",
    "- **loc[]**: Selects data by labels (index and column names).\n",
    "- **iloc[]**: Selects data by integer location (index position).\n",
    "- **at[]**: Accesses a single value using labels (index and column names).\n",
    "- **iat[]**: Accesses a single value using integer location (index position)."
   ]
  },
  {
   "cell_type": "code",
   "execution_count": 38,
   "metadata": {},
   "outputs": [
    {
     "name": "stdout",
     "output_type": "stream",
     "text": [
      "Using loc[]:\n",
      "    Name  Age\n",
      "1   Emma   24\n",
      "2  Peter   32\n",
      "3  Alice   30\n",
      "    Name  Age     City\n",
      "2  Peter   32  Chicago\n",
      "4    Bob   35  Seattle\n",
      "\n",
      "Using iloc[]:\n",
      "    Name  Age\n",
      "1   Emma   24\n",
      "2  Peter   32\n",
      "\n",
      "Using at[]:\n",
      "Peter\n",
      "\n",
      "Using iat[]:\n",
      "Boston\n"
     ]
    }
   ],
   "source": [
    "### Example Usage:\n",
    "\n",
    "# Creating a sample DataFrame\n",
    "data = {\n",
    "    'Name': ['John', 'Emma', 'Peter', 'Alice', 'Bob'],\n",
    "    'Age': [28, 24, 32, 30, 35],\n",
    "    'City': ['New York', 'San Francisco', 'Chicago', 'Boston', 'Seattle']\n",
    "}\n",
    "df = pd.DataFrame(data)\n",
    "\n",
    "# Using loc[] to select specific rows and columns by labels\n",
    "print(\"Using loc[]:\")\n",
    "print(df.loc[1:3, ['Name', 'Age']])  # Select rows 1 to 3 and columns 'Name' and 'Age'\n",
    "print(df.loc[df['Age'] > 30])  # Select rows where Age is greater than 30\n",
    "\n",
    "# Using iloc[] to select specific rows and columns by integer location\n",
    "print(\"\\nUsing iloc[]:\")\n",
    "print(df.iloc[1:3, [0, 1]])  # Select rows 1 to 2 and columns at integer positions 0 and 1\n",
    "\n",
    "# Using at[] to access a single value by labels\n",
    "print(\"\\nUsing at[]:\")\n",
    "print(df.at[2, 'Name'])  # Access the value at row label 2 and column label 'Name'\n",
    "\n",
    "# Using iat[] to access a single value by integer location\n",
    "print(\"\\nUsing iat[]:\")\n",
    "print(df.iat[3, 2])  # Access the value at row position 3 and column position 2\n"
   ]
  },
  {
   "cell_type": "markdown",
   "metadata": {},
   "source": [
    "### Explanation:\n",
    "\n",
    "- **loc[]**: Selects rows and columns based on their labels. You can specify rows and columns using labels directly or conditionally.\n",
    "- **iloc[]**: Selects rows and columns based on their integer positions (0-based index).\n",
    "- **at[]**: Accesses a single value using labels for both row and column.\n",
    "- **iat[]**: Accesses a single value using integer positions for both row and column.\n",
    "\n",
    "These methods provide flexibility in accessing and manipulating data in Pandas DataFrames based on either labels or integer positions, depending on your data analysis needs."
   ]
  },
  {
   "cell_type": "markdown",
   "metadata": {},
   "source": [
    "----"
   ]
  },
  {
   "cell_type": "markdown",
   "metadata": {},
   "source": [
    "### Boolean Indexing in Pandas\n",
    "\n",
    "Boolean indexing in Pandas allows you to select rows based on a condition expressed as a boolean (True or False). Here’s how you can use it:\n",
    "\n",
    "### Example Usage:"
   ]
  },
  {
   "cell_type": "code",
   "execution_count": 39,
   "metadata": {},
   "outputs": [
    {
     "name": "stdout",
     "output_type": "stream",
     "text": [
      "Boolean indexing:\n",
      "    Name  Age     City\n",
      "2  Peter   32  Chicago\n",
      "4    Bob   35  Seattle\n"
     ]
    }
   ],
   "source": [
    "# Creating a sample DataFrame\n",
    "data = {\n",
    "    'Name': ['John', 'Emma', 'Peter', 'Alice', 'Bob'],\n",
    "    'Age': [28, 24, 32, 30, 35],\n",
    "    'City': ['New York', 'San Francisco', 'Chicago', 'Boston', 'Seattle']\n",
    "}\n",
    "df = pd.DataFrame(data)\n",
    "\n",
    "# Boolean indexing: Select rows where Age is greater than 30\n",
    "print(\"Boolean indexing:\")\n",
    "print(df[df['Age'] > 30])"
   ]
  },
  {
   "cell_type": "markdown",
   "metadata": {},
   "source": [
    "### Explanation:\n",
    "\n",
    "- **Boolean Indexing**: The expression `df['Age'] > 30` creates a boolean Series where each element indicates whether the condition (Age > 30) is True or False.\n",
    "- **df[df['Age'] > 30]**: This selects rows from the DataFrame where the condition is True, effectively filtering out rows where Age is not greater than 30.\n",
    "\n",
    "Boolean indexing is useful for filtering data based on specific conditions, allowing you to focus on subsets of your data that meet certain criteria. It's a powerful feature for data manipulation and analysis in Pandas."
   ]
  },
  {
   "cell_type": "markdown",
   "metadata": {},
   "source": [
    "----"
   ]
  },
  {
   "cell_type": "markdown",
   "metadata": {},
   "source": [
    "# Setting Values in Pandas\n",
    "\n",
    "In Pandas, you can set values in a DataFrame using various methods, depending on whether you want to modify specific rows, columns, or cells. Here are common methods:\n",
    "\n",
    "### Example Usage:"
   ]
  },
  {
   "cell_type": "code",
   "execution_count": 40,
   "metadata": {},
   "outputs": [
    {
     "name": "stdout",
     "output_type": "stream",
     "text": [
      "Updated DataFrame:\n",
      "    Name  Age         City\n",
      "0   John   30      Chicago\n",
      "1   Emma   25  Los Angeles\n",
      "2  Peter   33      Chicago\n",
      "3  Alice   31       Boston\n",
      "4    Bob   36      Seattle\n"
     ]
    }
   ],
   "source": [
    "# Creating a sample DataFrame\n",
    "data = {\n",
    "    'Name': ['John', 'Emma', 'Peter', 'Alice', 'Bob'],\n",
    "    'Age': [28, 24, 32, 30, 35],\n",
    "    'City': ['New York', 'San Francisco', 'Chicago', 'Boston', 'Seattle']\n",
    "}\n",
    "df = pd.DataFrame(data)\n",
    "\n",
    "# Setting values in a DataFrame\n",
    "# 1. Setting values for an entire column\n",
    "df['Age'] = [30, 25, 33, 31, 36]  # Update all values in the 'Age' column\n",
    "\n",
    "# 2. Setting values based on a condition\n",
    "df.loc[df['Name'] == 'Emma', 'City'] = 'Los Angeles'  # Update 'City' for rows where 'Name' is 'Emma'\n",
    "\n",
    "# 3. Setting a single value using index and column labels\n",
    "df.at[0, 'City'] = 'Chicago'  # Set the value in the first row and 'City' column\n",
    "\n",
    "# Printing the updated DataFrame\n",
    "print(\"Updated DataFrame:\")\n",
    "print(df)"
   ]
  },
  {
   "cell_type": "markdown",
   "metadata": {},
   "source": [
    "### Explanation:\n",
    "\n",
    "- **Setting Values**:\n",
    "  - **Setting values for an entire column**: You can assign a list or array to a column to update all its values.\n",
    "  - **Setting values based on a condition**: Use `loc[]` to set values based on a condition (e.g., updating 'City' where 'Name' is 'Emma').\n",
    "  - **Setting a single value**: Use `at[]` to set a single value at a specific row and column intersection.\n",
    "\n",
    "These methods allow you to efficiently update and modify data in Pandas DataFrames, whether for bulk updates or specific cell assignments based on conditions."
   ]
  }
 ],
 "metadata": {
  "kernelspec": {
   "display_name": "Python 3",
   "language": "python",
   "name": "python3"
  },
  "language_info": {
   "codemirror_mode": {
    "name": "ipython",
    "version": 3
   },
   "file_extension": ".py",
   "mimetype": "text/x-python",
   "name": "python",
   "nbconvert_exporter": "python",
   "pygments_lexer": "ipython3",
   "version": "3.12.3"
  }
 },
 "nbformat": 4,
 "nbformat_minor": 2
}
